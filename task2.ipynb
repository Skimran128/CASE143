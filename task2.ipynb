{
  "nbformat": 4,
  "nbformat_minor": 0,
  "metadata": {
    "colab": {
      "provenance": [],
      "authorship_tag": "ABX9TyOyH0XIp4E+sR+V0/y76emy",
      "include_colab_link": true
    },
    "kernelspec": {
      "name": "python3",
      "display_name": "Python 3"
    },
    "language_info": {
      "name": "python"
    }
  },
  "cells": [
    {
      "cell_type": "markdown",
      "metadata": {
        "id": "view-in-github",
        "colab_type": "text"
      },
      "source": [
        "<a href=\"https://colab.research.google.com/github/Skimran128/CASE143/blob/main/task2.ipynb\" target=\"_parent\"><img src=\"https://colab.research.google.com/assets/colab-badge.svg\" alt=\"Open In Colab\"/></a>"
      ]
    },
    {
      "source": [
        "import pandas as pd\n",
        "\n",
        "from sklearn.model_selection import train_test_split\n",
        "\n",
        "from sklearn.preprocessing import StandardScaler\n",
        "\n",
        "from sklearn.linear_model import LinearRegression\n",
        "\n",
        "from sklearn.metrics import mean_squared_error, r2_score\n",
        "\n",
        "file_path = '/content/house price data.csv'\n",
        "\n",
        "import pandas as pd\n",
        "data = pd.read_csv(file_path)\n",
        "\n",
        "print(data.head())\n",
        "\n",
        "# Remove unnecessary columns (including 'date')\n",
        "data = data.drop(columns=['date', 'street', 'city', 'statezip', 'country'])\n",
        "\n",
        "# Remove rows with missing values\n",
        "data = data.dropna()\n",
        "\n",
        "X= data.drop(columns=['price'])\n",
        "\n",
        "y = data['price']\n",
        "\n",
        "from sklearn.model_selection import train_test_split\n",
        "X_train, X_test, y_train, y_test = train_test_split(X, y, test_size=0.2, random_state=42)\n",
        "\n",
        "from sklearn.preprocessing import StandardScaler\n",
        "scaler = StandardScaler()\n",
        "\n",
        "X_train = scaler.fit_transform(X_train)\n",
        "\n",
        "X_test = scaler.transform(X_test)\n",
        "\n",
        "model = LinearRegression()\n",
        "\n",
        "model.fit(X_train, y_train)\n",
        "\n",
        "y_pred = model.predict(X_test)\n",
        "\n",
        "mse = mean_squared_error(y_test, y_pred)\n",
        "\n",
        "r2 = r2_score(y_test, y_pred) # Fix variable name\n",
        "\n",
        "print(f'Mean Squared Error (MSE): {mse}')\n",
        "\n",
        "print(f'R-squared (R2) score: {r2}')\n",
        "\n",
        "new_data = X_test[:5] # Example: Using first 5 samples from the test set\n",
        "\n",
        "predicted_prices = model.predict(new_data)\n",
        "\n",
        "print('Predicted house prices for the first 5 samples:')\n",
        "\n",
        "print(predicted_prices)"
      ],
      "cell_type": "code",
      "metadata": {
        "colab": {
          "base_uri": "https://localhost:8080/"
        },
        "id": "tWcWlRbYtjwE",
        "outputId": "5ae3fe04-6285-4109-d0c6-dcd1c648e555"
      },
      "execution_count": 9,
      "outputs": [
        {
          "output_type": "stream",
          "name": "stdout",
          "text": [
            "                  date      price  bedrooms  bathrooms  sqft_living  sqft_lot  \\\n",
            "0  2014-05-02 00:00:00   313000.0       3.0       1.50         1340      7912   \n",
            "1  2014-05-02 00:00:00  2384000.0       5.0       2.50         3650      9050   \n",
            "2  2014-05-02 00:00:00   342000.0       3.0       2.00         1930     11947   \n",
            "3  2014-05-02 00:00:00   420000.0       3.0       2.25         2000      8030   \n",
            "4  2014-05-02 00:00:00   550000.0       4.0       2.50         1940     10500   \n",
            "\n",
            "   floors  waterfront  view  condition  sqft_above  sqft_basement  yr_built  \\\n",
            "0     1.5           0     0          3        1340              0      1955   \n",
            "1     2.0           0     4          5        3370            280      1921   \n",
            "2     1.0           0     0          4        1930              0      1966   \n",
            "3     1.0           0     0          4        1000           1000      1963   \n",
            "4     1.0           0     0          4        1140            800      1976   \n",
            "\n",
            "   yr_renovated                    street       city  statezip country  \n",
            "0          2005      18810 Densmore Ave N  Shoreline  WA 98133     USA  \n",
            "1             0           709 W Blaine St    Seattle  WA 98119     USA  \n",
            "2             0  26206-26214 143rd Ave SE       Kent  WA 98042     USA  \n",
            "3             0           857 170th Pl NE   Bellevue  WA 98008     USA  \n",
            "4          1992         9105 170th Ave NE    Redmond  WA 98052     USA  \n",
            "Mean Squared Error (MSE): 987262806172.6716\n",
            "R-squared (R2) score: 0.031949454181014025\n",
            "Predicted house prices for the first 5 samples:\n",
            "[ 303120.04788252  327952.04788252 1075216.04788252  546128.04788252\n",
            "  377381.83120304]\n"
          ]
        }
      ]
    }
  ]
}